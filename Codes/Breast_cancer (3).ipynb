{
  "nbformat": 4,
  "nbformat_minor": 0,
  "metadata": {
    "colab": {
      "name": "Breast-cancer.ipynb",
      "provenance": [],
      "collapsed_sections": [],
      "toc_visible": true,
      "machine_shape": "hm"
    },
    "kernelspec": {
      "name": "python3",
      "display_name": "Python 3"
    },
    "accelerator": "GPU"
  },
  "cells": [
    {
      "cell_type": "markdown",
      "metadata": {
        "id": "UVYusmGBK2tt"
      },
      "source": [
        "### Preliminaries"
      ]
    },
    {
      "cell_type": "code",
      "metadata": {
        "id": "Kna3iomP97nF"
      },
      "source": [
        "from google.colab import drive\r\n",
        "drive.mount('/content/drive')"
      ],
      "execution_count": null,
      "outputs": []
    },
    {
      "cell_type": "code",
      "metadata": {
        "id": "RvqrOpt5CMAb"
      },
      "source": [
        "%%bash\r\n",
        "wget https://raw.githubusercontent.com/Qsinap/Breast-cancer-segmentation/main/Codes/MultiResUNet.py\r\n",
        "wget https://raw.githubusercontent.com/Qsinap/Breast-cancer-segmentation/main/Codes/functions_seg.py\r\n",
        "pip install keras==2.3.1\r\n",
        "pip install tensorflow==2.2.0\r\n",
        "pip install keras_applications==1.0.8\r\n",
        "pip install image-classifiers==1.0.0\r\n",
        "pip install efficientnet==1.0.0\r\n",
        "pip install keras-unet\r\n",
        "pip install tf-semantic-segmentation\r\n",
        "pip install segmentation-models"
      ],
      "execution_count": null,
      "outputs": []
    },
    {
      "cell_type": "code",
      "metadata": {
        "id": "TdoJLRSxCqG8"
      },
      "source": [
        "%env SM_FRAMEWORK=tf.keras"
      ],
      "execution_count": null,
      "outputs": []
    },
    {
      "cell_type": "code",
      "metadata": {
        "id": "IVvoVLZlSqJ_"
      },
      "source": [
        "import functions_seg as fs\r\n",
        "import pandas as pd\r\n",
        "import scipy.io as sio\r\n",
        "import numpy as np\r\n",
        "import matplotlib.pyplot as plt\r\n",
        "import os\r\n",
        "import math\r\n",
        "import tensorflow as tf\r\n",
        "from sklearn.utils.extmath import cartesian"
      ],
      "execution_count": null,
      "outputs": []
    },
    {
      "cell_type": "markdown",
      "metadata": {
        "id": "Mqlekuy69V8t"
      },
      "source": [
        "### Functions"
      ]
    },
    {
      "cell_type": "code",
      "metadata": {
        "id": "_HevNQqRnrCO"
      },
      "source": [
        "resized_height = 256  \r\n",
        "resized_width  = 256\r\n",
        "max_dist = math.sqrt(resized_height**2 + resized_width**2)\r\n",
        "n_pixels = resized_height * resized_width\r\n",
        "all_img_locations = tf.convert_to_tensor(cartesian([np.arange(resized_height), np.arange(resized_width)]), tf.float32)"
      ],
      "execution_count": null,
      "outputs": []
    },
    {
      "cell_type": "code",
      "metadata": {
        "id": "TYGZeKqEnuHe"
      },
      "source": [
        "def tf_repeat(tensor, repeats):\r\n",
        "    with tf.compat.v1.variable_scope(\"repeat\"):\r\n",
        "        expanded_tensor = tf.expand_dims(tensor, -1)\r\n",
        "        multiples = [1] + repeats\r\n",
        "        tiled_tensor = tf.tile(expanded_tensor, multiples = multiples)\r\n",
        "        repeated_tesnor = tf.reshape(tiled_tensor, tf.shape(tensor) * repeats)\r\n",
        "    return repeated_tesnor"
      ],
      "execution_count": null,
      "outputs": []
    },
    {
      "cell_type": "code",
      "metadata": {
        "id": "vgIEdyS5Z2ty"
      },
      "source": [
        "def Weighted_Hausdorff_loss(y_true, y_pred):\r\n",
        "\r\n",
        "    terms_1 = []\r\n",
        "    terms_2 = []\r\n",
        "    y_true = tf.squeeze(y_true, axis=-1)\r\n",
        "    y_pred = tf.squeeze(y_pred, axis=-1)\r\n",
        "\r\n",
        "    for b in range(batch_size):\r\n",
        "        gt_b = y_true[b]\r\n",
        "        prob_map_b = y_pred[b]\r\n",
        "        \r\n",
        "        n_gt_pts = tf.reduce_sum(gt_b)\r\n",
        "        gt_b = tf.where(tf.cast(gt_b, tf.bool))\r\n",
        "        gt_b = tf.cast(gt_b, tf.float32)\r\n",
        "        d_matrix = tf.sqrt(tf.maximum(tf.reshape(tf.reduce_sum(gt_b*gt_b, axis=1), (-1, 1)) + tf.reduce_sum(all_img_locations*all_img_locations, axis=1)-2*(tf.matmul(gt_b, tf.transpose(all_img_locations))), 0.0))\r\n",
        "        d_matrix = tf.transpose(d_matrix)\r\n",
        "\r\n",
        "        p = tf.reshape(prob_map_b, (n_pixels, 1))\r\n",
        "        n_est_pts = tf.reduce_sum(p)\r\n",
        "        p_replicated = tf_repeat(tf.reshape(p, (-1, 1)), [1, n_gt_pts])\r\n",
        "        eps = 1e-6\r\n",
        "        alpha = 4\r\n",
        "\r\n",
        "        term_1 = (1 / (n_est_pts + eps)) * tf.reduce_sum(p * tf.reshape(tf.reduce_min(d_matrix, axis=1), (-1, 1)))\r\n",
        "        d_div_p = tf.reduce_min((d_matrix + eps) / (p_replicated**alpha + eps / max_dist), axis=0)\r\n",
        "        d_div_p = tf.clip_by_value(d_div_p, 0, max_dist)\r\n",
        "        term_2 = tf.reduce_mean(d_div_p, axis=0)\r\n",
        "        terms_1.append(term_1)\r\n",
        "        terms_2.append(term_2)\r\n",
        "    terms_1 = tf.stack(terms_1)\r\n",
        "    terms_2 = tf.stack(terms_2)\r\n",
        "    terms_1 = tf.compat.v1.Print(tf.reduce_mean(terms_1), [tf.reduce_mean(terms_1)], \"term 1\")\r\n",
        "    terms_2 = tf.compat.v1.Print(tf.reduce_mean(terms_2), [tf.reduce_mean(terms_2)], \"term 2\")\r\n",
        "    res = terms_1 + terms_2\r\n",
        "    return res"
      ],
      "execution_count": null,
      "outputs": []
    },
    {
      "cell_type": "code",
      "metadata": {
        "id": "yL_eAc_q9-qT"
      },
      "source": [
        "losses={'binary_crossentropy': 'binary_crossentropy', 'dice_coef_loss': fs.dice_coef_loss, 'weighted_cross_entropyloss': fs.weighted_cross_entropyloss, 'tversky_loss': fs.tversky_loss, 'log_cosh_dice_loss': fs.log_cosh_dice_loss, 'Weighted_Hausdorff': Weighted_Hausdorff_loss}\r\n",
        "n_losses=['Weighted_Hausdorff', 'binary_crossentropy', 'dice_coef_loss', 'weighted_cross_entropyloss', 'tversky_loss', 'log_cosh_dice_loss']"
      ],
      "execution_count": null,
      "outputs": []
    },
    {
      "cell_type": "code",
      "metadata": {
        "id": "scPGiGbOm-Z1"
      },
      "source": [
        "backbones=['None', 'efficientnetb7', 'senet154', 'seresnet152', 'seresnext101', 'inceptionresnetv2', 'mobilenetv2', 'densenet201', 'resnet152', 'resnext101', 'vgg19']"
      ],
      "execution_count": null,
      "outputs": []
    },
    {
      "cell_type": "markdown",
      "metadata": {
        "id": "O7nDA7qyaR12"
      },
      "source": [
        "### [Datos](https://wiki.cancerimagingarchive.net/display/Public/CBIS-DDSM)\r\n"
      ]
    },
    {
      "cell_type": "code",
      "metadata": {
        "id": "SrQsFSiXBh2C"
      },
      "source": [
        "path='/content/drive/MyDrive/INDIGO_MLR/CancerDeMama/'"
      ],
      "execution_count": null,
      "outputs": []
    },
    {
      "cell_type": "code",
      "metadata": {
        "colab": {
          "base_uri": "https://localhost:8080/",
          "height": 47
        },
        "id": "xCKamdIPwaX0",
        "outputId": "1d3c176f-098d-4513-c913-8767f1acb75e"
      },
      "source": [
        "df = pd.DataFrame(columns=('tumor_type','run_n', 'network', 'optimizer', 'loss', 'epochs', 'total_parameters', 'time','augm', 'jaccard_distances', 'acc','sensitivity','specificity','FPR','dice_coef', 'result_mat'))\r\n",
        "df.head()"
      ],
      "execution_count": null,
      "outputs": [
        {
          "output_type": "execute_result",
          "data": {
            "text/html": [
              "<div>\n",
              "<style scoped>\n",
              "    .dataframe tbody tr th:only-of-type {\n",
              "        vertical-align: middle;\n",
              "    }\n",
              "\n",
              "    .dataframe tbody tr th {\n",
              "        vertical-align: top;\n",
              "    }\n",
              "\n",
              "    .dataframe thead th {\n",
              "        text-align: right;\n",
              "    }\n",
              "</style>\n",
              "<table border=\"1\" class=\"dataframe\">\n",
              "  <thead>\n",
              "    <tr style=\"text-align: right;\">\n",
              "      <th></th>\n",
              "      <th>tumor_type</th>\n",
              "      <th>run_n</th>\n",
              "      <th>network</th>\n",
              "      <th>optimizer</th>\n",
              "      <th>loss</th>\n",
              "      <th>epochs</th>\n",
              "      <th>total_parameters</th>\n",
              "      <th>time</th>\n",
              "      <th>augm</th>\n",
              "      <th>jaccard_distances</th>\n",
              "      <th>acc</th>\n",
              "      <th>sensitivity</th>\n",
              "      <th>specificity</th>\n",
              "      <th>FPR</th>\n",
              "      <th>dice_coef</th>\n",
              "      <th>result_mat</th>\n",
              "    </tr>\n",
              "  </thead>\n",
              "  <tbody>\n",
              "  </tbody>\n",
              "</table>\n",
              "</div>"
            ],
            "text/plain": [
              "Empty DataFrame\n",
              "Columns: [tumor_type, run_n, network, optimizer, loss, epochs, total_parameters, time, augm, jaccard_distances, acc, sensitivity, specificity, FPR, dice_coef, result_mat]\n",
              "Index: []"
            ]
          },
          "metadata": {
            "tags": []
          },
          "execution_count": 11
        }
      ]
    },
    {
      "cell_type": "code",
      "metadata": {
        "id": "INoMVqFHfHw5"
      },
      "source": [
        "datos=sio.loadmat(path+'/data.mat')\r\n",
        "images=datos['images'].astype('float32')\r\n",
        "masks=(datos['masks']!=0).astype('float32')\r\n",
        "n_ima,row,cols=np.shape(images)\r\n",
        "images=images.reshape((*images.shape,1))\r\n",
        "masks=masks.reshape((*masks.shape,1))\r\n",
        "del datos"
      ],
      "execution_count": null,
      "outputs": []
    },
    {
      "cell_type": "code",
      "metadata": {
        "id": "hH-AsV5Yu6Qc"
      },
      "source": [
        "imagesRGB=np.zeros((n_ima, row, cols, 3))\r\n",
        "imagesRGB[...,0]=imagesRGB[...,1]=imagesRGB[...,2]=images[...,0]\r\n",
        "images=imagesRGB\r\n",
        "del imagesRGB"
      ],
      "execution_count": null,
      "outputs": []
    },
    {
      "cell_type": "code",
      "metadata": {
        "colab": {
          "base_uri": "https://localhost:8080/"
        },
        "id": "P27L_1r0z4bC",
        "outputId": "d8464000-26af-43c4-add3-e763e419f46d"
      },
      "source": [
        "sp,sp2 = int(n_ima*0.8), int(n_ima*0.7)\r\n",
        "x_test, x_train, x_val=images[sp:], images[:sp2], images[sp2:sp]\r\n",
        "y_test, y_train, y_val=masks[sp:], masks[:sp2], masks[sp2:sp]\r\n",
        "print(np.shape(x_test), np.shape(x_train), np.shape(x_val))\r\n",
        "del images, masks"
      ],
      "execution_count": null,
      "outputs": [
        {
          "output_type": "stream",
          "text": [
            "(143, 256, 256, 3) (499, 256, 256, 3) (72, 256, 256, 3)\n"
          ],
          "name": "stdout"
        }
      ]
    },
    {
      "cell_type": "markdown",
      "metadata": {
        "id": "A-EOKlgBKjas"
      },
      "source": [
        "### Data augmentation"
      ]
    },
    {
      "cell_type": "code",
      "metadata": {
        "id": "Lpwc2qC4gu9u"
      },
      "source": [
        "x_train=np.concatenate((x_train, np.flip(x_train, 2)), axis=0)\r\n",
        "x_train=np.concatenate((x_train, np.rot90(x_train,1,axes=(1,2)),np.rot90(x_train,2,axes=(1,2)),np.rot90(x_train,3,axes=(1,2))), axis=0)\r\n",
        "y_train=np.concatenate((y_train, np.flip(y_train, 2)), axis=0)\r\n",
        "y_train=np.concatenate((y_train, np.rot90(y_train,1,axes=(1,2)),np.rot90(y_train,2,axes=(1,2)),np.rot90(y_train,3,axes=(1,2))), axis=0)"
      ],
      "execution_count": null,
      "outputs": []
    },
    {
      "cell_type": "code",
      "metadata": {
        "colab": {
          "base_uri": "https://localhost:8080/",
          "height": 277
        },
        "id": "vtePH0hDpn4F",
        "outputId": "37938c09-588d-4bfb-c1a1-30b2b4e14a98"
      },
      "source": [
        "ind=np.random.choice(n_ima)\r\n",
        "fs.plot_mamo(x_train[ind][...,0], y_train[ind][...,0])"
      ],
      "execution_count": null,
      "outputs": [
        {
          "output_type": "display_data",
          "data": {
            "image/png": "[encoded data removed]",
            "text/plain": [
              "<Figure size 1080x504 with 3 Axes>"
            ]
          },
          "metadata": {
            "tags": [],
            "needs_background": "light"
          }
        }
      ]
    },
    {
      "cell_type": "markdown",
      "metadata": {
        "id": "wQ0F-K68Ktvs"
      },
      "source": [
        "### Training"
      ]
    },
    {
      "cell_type": "code",
      "metadata": {
        "id": "rM9hrINxvi58"
      },
      "source": [
        "paths=path+'weights/'"
      ],
      "execution_count": null,
      "outputs": []
    },
    {
      "cell_type": "code",
      "metadata": {
        "colab": {
          "base_uri": "https://localhost:8080/"
        },
        "id": "kSrNJYaqvuJL",
        "outputId": "7d64ad3b-4fa7-42ca-f058-56cc56b07feb"
      },
      "source": [
        "if os.path.exists(paths):\r\n",
        "  print('done')\r\n",
        "else:\r\n",
        "  os.system('mkdir '+paths)"
      ],
      "execution_count": null,
      "outputs": [
        {
          "output_type": "stream",
          "text": [
            "done\n"
          ],
          "name": "stdout"
        }
      ]
    },
    {
      "cell_type": "code",
      "metadata": {
        "id": "yYj8Lj6uUNrI"
      },
      "source": [
        "import time\r\n",
        "from keras.callbacks import ModelCheckpoint, EarlyStopping\r\n",
        "from IPython.display import clear_output"
      ],
      "execution_count": null,
      "outputs": []
    },
    {
      "cell_type": "code",
      "metadata": {
        "colab": {
          "base_uri": "https://localhost:8080/"
        },
        "id": "Qqte0Caev2HD",
        "outputId": "601ccb3c-9e5f-4566-d45f-238f5395fbea"
      },
      "source": [
        "red='unet'\r\n",
        "\r\n",
        "tumor_t=''\r\n",
        "epochs=150\r\n",
        "optimizer='Adam'\r\n",
        "augmentation='8'\r\n",
        "batch_size=4\r\n",
        "\r\n",
        "for back_b in backbones:\r\n",
        "  network=red+'_'+back_b\r\n",
        "\r\n",
        "  name='_'.join(['breast_cancer_'+str(tumor_t),network,optimizer])\r\n",
        "\r\n",
        "  if not os.path.exists(path+name+'.csv'):\r\n",
        "    df.to_csv(path+name+'.csv')\r\n",
        "\r\n",
        "  for i in range(18,19):\r\n",
        "    for j in n_losses:\r\n",
        "      error=False\r\n",
        "      tic = time.time()\r\n",
        "      name_m='_'.join([name,j,'run',str(i)])  \r\n",
        "      print(name_m)\r\n",
        "\r\n",
        "      try:\r\n",
        "        del model\r\n",
        "      except:\r\n",
        "        print('done')\r\n",
        "\r\n",
        "      model=fs.read_model(red,back_b)\r\n",
        "      model.compile(optimizer=optimizer, loss=losses[j], metrics=['acc', fs.jaccard_distance, fs.dice_coef])\r\n",
        "      ES = EarlyStopping(patience=10, min_delta=0.00001, restore_best_weights=True)\r\n",
        "      MCP = ModelCheckpoint(filepath=path+name_m+'_w.hdf5', save_best_only=True, save_weights_only=True)\r\n",
        "      toc=time.time()-tic\r\n",
        "\r\n",
        "      try:\r\n",
        "        results = model.fit(x_train, y_train, validation_data=(x_val, y_val), batch_size=4, epochs=epochs)\r\n",
        "        model.save_weights(paths+name_m+\"w.h5\")\r\n",
        "      except:\r\n",
        "        print('Training error')\r\n",
        "        error=True\r\n",
        "      \r\n",
        "      if not error:\r\n",
        "        sio.savemat(paths+name_m+'_r.mat', results.history)\r\n",
        "\r\n",
        "        #validation\r\n",
        "        fs.validation_modela_and_save(path+name+'.csv',i,j,name_m+'_r.mat')\r\n",
        "        clear_output(wait=True)"
      ],
      "execution_count": null,
      "outputs": [
        {
          "output_type": "stream",
          "text": [
            "breast_cancer__unet_efficientnetb7_Adam_Weighted_Hausdorff_run_18\n",
            "done\n",
            "Downloading data from https://github.com/Callidior/keras-applications/releases/download/efficientnet/efficientnet-b7_weights_tf_dim_ordering_tf_kernels_autoaugment_notop.h5\n",
            "258441216/258434480 [==============================] - 4s 0us/step\n",
            "Epoch 1/150\n",
            "WARNING:tensorflow:From <ipython-input-7-a3a319f2e197>:32: Print (from tensorflow.python.ops.logging_ops) is deprecated and will be removed after 2018-08-20.\n",
            "Instructions for updating:\n",
            "Use tf.print instead of tf.Print. Note that tf.print returns a no-output operator that directly prints the output. Outside of defuns or eager mode, this operator will not be executed unless it is directly specified in session.run or used as a control dependency for other operators. This is only a concern in graph mode. Below is an example of how to ensure tf.print executes in graph mode:\n",
            "\n",
            "998/998 [==============================] - 339s 339ms/step - loss: 45.0893 - acc: 0.9136 - jaccard_distance: 0.0992 - dice_coef: 0.0874 - val_loss: 30.2168 - val_acc: 0.9439 - val_jaccard_distance: 0.0596 - val_dice_coef: 0.1226\n",
            "Epoch 2/150\n",
            "998/998 [==============================] - 333s 333ms/step - loss: 37.4679 - acc: 0.9576 - jaccard_distance: 0.0466 - dice_coef: 0.1172 - val_loss: 24.3731 - val_acc: 0.9592 - val_jaccard_distance: 0.0433 - val_dice_coef: 0.1667\n",
            "Epoch 3/150\n",
            "998/998 [==============================] - 332s 333ms/step - loss: 32.6415 - acc: 0.9704 - jaccard_distance: 0.0330 - dice_coef: 0.1469 - val_loss: 24.9037 - val_acc: 0.9898 - val_jaccard_distance: 0.0126 - val_dice_coef: 0.2556\n",
            "Epoch 4/150\n",
            "998/998 [==============================] - 333s 333ms/step - loss: 33.8422 - acc: 0.9659 - jaccard_distance: 0.0370 - dice_coef: 0.1514 - val_loss: 24.6419 - val_acc: 0.9648 - val_jaccard_distance: 0.0378 - val_dice_coef: 0.1895\n",
            "Epoch 5/150\n",
            "998/998 [==============================] - 333s 333ms/step - loss: 28.8823 - acc: 0.9748 - jaccard_distance: 0.0275 - dice_coef: 0.1813 - val_loss: 21.4513 - val_acc: 0.9712 - val_jaccard_distance: 0.0319 - val_dice_coef: 0.2186\n",
            "Epoch 6/150\n",
            "998/998 [==============================] - 332s 333ms/step - loss: 27.8707 - acc: 0.9761 - jaccard_distance: 0.0261 - dice_coef: 0.1951 - val_loss: 21.0338 - val_acc: 0.9736 - val_jaccard_distance: 0.0279 - val_dice_coef: 0.2228\n",
            "Epoch 7/150\n",
            "998/998 [==============================] - 332s 333ms/step - loss: 24.8162 - acc: 0.9808 - jaccard_distance: 0.0212 - dice_coef: 0.2259 - val_loss: 23.3505 - val_acc: 0.9785 - val_jaccard_distance: 0.0234 - val_dice_coef: 0.2306\n",
            "Epoch 8/150\n",
            "998/998 [==============================] - 333s 333ms/step - loss: 30.6572 - acc: 0.9714 - jaccard_distance: 0.0312 - dice_coef: 0.1678 - val_loss: 22.3328 - val_acc: 0.9736 - val_jaccard_distance: 0.0280 - val_dice_coef: 0.1985\n",
            "Epoch 9/150\n",
            "998/998 [==============================] - 333s 334ms/step - loss: 25.1260 - acc: 0.9793 - jaccard_distance: 0.0224 - dice_coef: 0.2059 - val_loss: 18.9301 - val_acc: 0.9820 - val_jaccard_distance: 0.0199 - val_dice_coef: 0.2629\n",
            "Epoch 10/150\n",
            "998/998 [==============================] - 332s 333ms/step - loss: 25.6480 - acc: 0.9805 - jaccard_distance: 0.0214 - dice_coef: 0.2149 - val_loss: 21.5517 - val_acc: 0.9756 - val_jaccard_distance: 0.0279 - val_dice_coef: 0.2182\n",
            "Epoch 11/150\n",
            "998/998 [==============================] - 330s 330ms/step - loss: 22.2318 - acc: 0.9827 - jaccard_distance: 0.0189 - dice_coef: 0.2469 - val_loss: 14.6835 - val_acc: 0.9895 - val_jaccard_distance: 0.0121 - val_dice_coef: 0.3647\n",
            "Epoch 12/150\n",
            "998/998 [==============================] - 333s 333ms/step - loss: 20.4476 - acc: 0.9843 - jaccard_distance: 0.0173 - dice_coef: 0.2595 - val_loss: 10.0588 - val_acc: 0.9906 - val_jaccard_distance: 0.0103 - val_dice_coef: 0.4219\n",
            "Epoch 13/150\n",
            "998/998 [==============================] - 332s 333ms/step - loss: 19.7145 - acc: 0.9855 - jaccard_distance: 0.0158 - dice_coef: 0.2829 - val_loss: 10.3129 - val_acc: 0.9939 - val_jaccard_distance: 0.0067 - val_dice_coef: 0.4871\n",
            "Epoch 14/150\n",
            "998/998 [==============================] - 332s 333ms/step - loss: 18.7319 - acc: 0.9859 - jaccard_distance: 0.0151 - dice_coef: 0.3000 - val_loss: 11.9247 - val_acc: 0.9903 - val_jaccard_distance: 0.0104 - val_dice_coef: 0.3982\n",
            "Epoch 15/150\n",
            "998/998 [==============================] - 332s 333ms/step - loss: 18.6950 - acc: 0.9877 - jaccard_distance: 0.0134 - dice_coef: 0.3137 - val_loss: 8.5649 - val_acc: 0.9913 - val_jaccard_distance: 0.0093 - val_dice_coef: 0.4548\n",
            "Epoch 16/150\n",
            "998/998 [==============================] - 332s 333ms/step - loss: 21.2294 - acc: 0.9851 - jaccard_distance: 0.0160 - dice_coef: 0.2883 - val_loss: 9.9190 - val_acc: 0.9939 - val_jaccard_distance: 0.0069 - val_dice_coef: 0.4963\n",
            "Epoch 17/150\n",
            "998/998 [==============================] - 330s 331ms/step - loss: 27.2978 - acc: 0.9804 - jaccard_distance: 0.0216 - dice_coef: 0.2230 - val_loss: 16.0498 - val_acc: 0.9885 - val_jaccard_distance: 0.0129 - val_dice_coef: 0.3469\n",
            "Epoch 18/150\n",
            "998/998 [==============================] - 331s 332ms/step - loss: 19.0910 - acc: 0.9875 - jaccard_distance: 0.0138 - dice_coef: 0.3149 - val_loss: 12.6917 - val_acc: 0.9906 - val_jaccard_distance: 0.0102 - val_dice_coef: 0.3903\n",
            "Epoch 19/150\n",
            "998/998 [==============================] - 332s 332ms/step - loss: 17.0533 - acc: 0.9892 - jaccard_distance: 0.0119 - dice_coef: 0.3441 - val_loss: 12.2229 - val_acc: 0.9943 - val_jaccard_distance: 0.0067 - val_dice_coef: 0.4514\n",
            "Epoch 20/150\n",
            "998/998 [==============================] - 332s 333ms/step - loss: 18.3961 - acc: 0.9881 - jaccard_distance: 0.0131 - dice_coef: 0.3234 - val_loss: 25.2961 - val_acc: 0.9696 - val_jaccard_distance: 0.0343 - val_dice_coef: 0.1927\n",
            "Epoch 21/150\n",
            "998/998 [==============================] - 332s 333ms/step - loss: 18.7059 - acc: 0.9868 - jaccard_distance: 0.0145 - dice_coef: 0.3060 - val_loss: 14.4455 - val_acc: 0.9863 - val_jaccard_distance: 0.0150 - val_dice_coef: 0.3464\n",
            "Epoch 22/150\n",
            "998/998 [==============================] - 332s 333ms/step - loss: 14.4752 - acc: 0.9903 - jaccard_distance: 0.0106 - dice_coef: 0.3633 - val_loss: 8.7567 - val_acc: 0.9872 - val_jaccard_distance: 0.0135 - val_dice_coef: 0.3782\n",
            "Epoch 23/150\n",
            "998/998 [==============================] - 332s 333ms/step - loss: 12.5120 - acc: 0.9918 - jaccard_distance: 0.0089 - dice_coef: 0.4097 - val_loss: 14.4046 - val_acc: 0.9916 - val_jaccard_distance: 0.0091 - val_dice_coef: 0.4467\n",
            "Epoch 24/150\n",
            "998/998 [==============================] - 332s 333ms/step - loss: 18.4775 - acc: 0.9867 - jaccard_distance: 0.0143 - dice_coef: 0.3424 - val_loss: 19.9867 - val_acc: 0.9785 - val_jaccard_distance: 0.0225 - val_dice_coef: 0.2430\n",
            "Epoch 25/150\n",
            "998/998 [==============================] - 332s 333ms/step - loss: 15.8857 - acc: 0.9849 - jaccard_distance: 0.0158 - dice_coef: 0.3197 - val_loss: 12.2657 - val_acc: 0.9934 - val_jaccard_distance: 0.0069 - val_dice_coef: 0.5274\n",
            "Epoch 26/150\n",
            "998/998 [==============================] - 332s 333ms/step - loss: 12.2396 - acc: 0.9914 - jaccard_distance: 0.0091 - dice_coef: 0.4216 - val_loss: 19.2694 - val_acc: 0.9932 - val_jaccard_distance: 0.0071 - val_dice_coef: 0.4838\n",
            "Epoch 27/150\n",
            "998/998 [==============================] - 331s 331ms/step - loss: 11.9896 - acc: 0.9924 - jaccard_distance: 0.0082 - dice_coef: 0.4359 - val_loss: 8.5527 - val_acc: 0.9936 - val_jaccard_distance: 0.0071 - val_dice_coef: 0.4965\n",
            "Epoch 28/150\n",
            "998/998 [==============================] - 327s 327ms/step - loss: 17.3811 - acc: 0.9875 - jaccard_distance: 0.0134 - dice_coef: 0.3772 - val_loss: 24.3332 - val_acc: 0.9699 - val_jaccard_distance: 0.0316 - val_dice_coef: 0.2441\n",
            "Epoch 29/150\n",
            "998/998 [==============================] - 330s 331ms/step - loss: 22.4677 - acc: 0.9823 - jaccard_distance: 0.0191 - dice_coef: 0.2712 - val_loss: 12.1290 - val_acc: 0.9911 - val_jaccard_distance: 0.0096 - val_dice_coef: 0.4255\n",
            "Epoch 30/150\n",
            "998/998 [==============================] - 331s 332ms/step - loss: 13.5778 - acc: 0.9902 - jaccard_distance: 0.0106 - dice_coef: 0.3900 - val_loss: 6.0692 - val_acc: 0.9951 - val_jaccard_distance: 0.0053 - val_dice_coef: 0.5645\n",
            "Epoch 31/150\n",
            "998/998 [==============================] - 331s 332ms/step - loss: 10.3321 - acc: 0.9932 - jaccard_distance: 0.0074 - dice_coef: 0.4580 - val_loss: 5.6110 - val_acc: 0.9950 - val_jaccard_distance: 0.0055 - val_dice_coef: 0.5537\n",
            "Epoch 32/150\n",
            "998/998 [==============================] - 331s 331ms/step - loss: 10.2835 - acc: 0.9934 - jaccard_distance: 0.0072 - dice_coef: 0.4688 - val_loss: 8.3906 - val_acc: 0.9959 - val_jaccard_distance: 0.0045 - val_dice_coef: 0.5496\n",
            "Epoch 33/150\n",
            "998/998 [==============================] - 332s 332ms/step - loss: 11.0289 - acc: 0.9929 - jaccard_distance: 0.0077 - dice_coef: 0.4512 - val_loss: 9.2716 - val_acc: 0.9919 - val_jaccard_distance: 0.0086 - val_dice_coef: 0.4983\n",
            "Epoch 34/150\n",
            "998/998 [==============================] - 331s 332ms/step - loss: 10.9566 - acc: 0.9927 - jaccard_distance: 0.0079 - dice_coef: 0.4452 - val_loss: 9.5226 - val_acc: 0.9936 - val_jaccard_distance: 0.0073 - val_dice_coef: 0.5174\n",
            "Epoch 35/150\n",
            "998/998 [==============================] - 331s 332ms/step - loss: 10.5357 - acc: 0.9929 - jaccard_distance: 0.0077 - dice_coef: 0.4520 - val_loss: 5.4656 - val_acc: 0.9947 - val_jaccard_distance: 0.0059 - val_dice_coef: 0.5475\n",
            "Epoch 36/150\n",
            "998/998 [==============================] - 331s 331ms/step - loss: 10.5968 - acc: 0.9928 - jaccard_distance: 0.0079 - dice_coef: 0.4438 - val_loss: 7.3544 - val_acc: 0.9956 - val_jaccard_distance: 0.0050 - val_dice_coef: 0.5488\n",
            "Epoch 37/150\n",
            "998/998 [==============================] - 331s 331ms/step - loss: 10.4224 - acc: 0.9928 - jaccard_distance: 0.0079 - dice_coef: 0.4461 - val_loss: 7.1162 - val_acc: 0.9923 - val_jaccard_distance: 0.0084 - val_dice_coef: 0.4802\n",
            "Epoch 38/150\n",
            "998/998 [==============================] - 330s 331ms/step - loss: 10.0105 - acc: 0.9932 - jaccard_distance: 0.0073 - dice_coef: 0.4701 - val_loss: 5.6486 - val_acc: 0.9956 - val_jaccard_distance: 0.0048 - val_dice_coef: 0.5884\n",
            "Epoch 39/150\n",
            "998/998 [==============================] - 330s 331ms/step - loss: 9.2340 - acc: 0.9938 - jaccard_distance: 0.0066 - dice_coef: 0.4964 - val_loss: 6.7410 - val_acc: 0.9953 - val_jaccard_distance: 0.0051 - val_dice_coef: 0.5618\n",
            "Epoch 40/150\n",
            "998/998 [==============================] - 331s 332ms/step - loss: 8.1396 - acc: 0.9944 - jaccard_distance: 0.0062 - dice_coef: 0.5051 - val_loss: 7.2127 - val_acc: 0.9952 - val_jaccard_distance: 0.0051 - val_dice_coef: 0.5534\n",
            "Epoch 41/150\n",
            "998/998 [==============================] - 330s 331ms/step - loss: 9.5442 - acc: 0.9938 - jaccard_distance: 0.0067 - dice_coef: 0.4823 - val_loss: 13.4910 - val_acc: 0.9940 - val_jaccard_distance: 0.0067 - val_dice_coef: 0.4873\n",
            "Epoch 42/150\n",
            "998/998 [==============================] - 330s 331ms/step - loss: 9.8977 - acc: 0.9937 - jaccard_distance: 0.0069 - dice_coef: 0.4758 - val_loss: 5.2776 - val_acc: 0.9960 - val_jaccard_distance: 0.0044 - val_dice_coef: 0.5942\n",
            "Epoch 43/150\n",
            "998/998 [==============================] - 330s 330ms/step - loss: 11.7040 - acc: 0.9930 - jaccard_distance: 0.0076 - dice_coef: 0.4669 - val_loss: 8.4800 - val_acc: 0.9936 - val_jaccard_distance: 0.0070 - val_dice_coef: 0.5155\n",
            "Epoch 44/150\n",
            "998/998 [==============================] - 330s 331ms/step - loss: 9.0395 - acc: 0.9938 - jaccard_distance: 0.0066 - dice_coef: 0.5029 - val_loss: 14.0424 - val_acc: 0.9950 - val_jaccard_distance: 0.0053 - val_dice_coef: 0.5226\n",
            "Epoch 45/150\n",
            "998/998 [==============================] - 330s 330ms/step - loss: 7.5655 - acc: 0.9946 - jaccard_distance: 0.0058 - dice_coef: 0.5251 - val_loss: 5.6340 - val_acc: 0.9960 - val_jaccard_distance: 0.0043 - val_dice_coef: 0.5978\n",
            "Epoch 46/150\n",
            "998/998 [==============================] - 331s 331ms/step - loss: 6.8694 - acc: 0.9950 - jaccard_distance: 0.0053 - dice_coef: 0.5426 - val_loss: 6.8612 - val_acc: 0.9956 - val_jaccard_distance: 0.0047 - val_dice_coef: 0.5900\n",
            "Epoch 47/150\n",
            "998/998 [==============================] - 329s 330ms/step - loss: 7.4014 - acc: 0.9949 - jaccard_distance: 0.0055 - dice_coef: 0.5314 - val_loss: 6.0718 - val_acc: 0.9958 - val_jaccard_distance: 0.0047 - val_dice_coef: 0.5820\n",
            "Epoch 48/150\n",
            "998/998 [==============================] - 330s 331ms/step - loss: 8.3000 - acc: 0.9947 - jaccard_distance: 0.0057 - dice_coef: 0.5223 - val_loss: 6.1782 - val_acc: 0.9944 - val_jaccard_distance: 0.0060 - val_dice_coef: 0.5559\n",
            "Epoch 49/150\n",
            "998/998 [==============================] - 331s 331ms/step - loss: 8.8623 - acc: 0.9944 - jaccard_distance: 0.0061 - dice_coef: 0.5058 - val_loss: 12.4658 - val_acc: 0.9940 - val_jaccard_distance: 0.0069 - val_dice_coef: 0.4900\n",
            "Epoch 50/150\n",
            "998/998 [==============================] - 331s 331ms/step - loss: 7.0161 - acc: 0.9949 - jaccard_distance: 0.0054 - dice_coef: 0.5322 - val_loss: 7.6027 - val_acc: 0.9958 - val_jaccard_distance: 0.0046 - val_dice_coef: 0.5707\n",
            "Epoch 51/150\n",
            "998/998 [==============================] - 331s 331ms/step - loss: 7.6732 - acc: 0.9947 - jaccard_distance: 0.0057 - dice_coef: 0.5166 - val_loss: 5.7094 - val_acc: 0.9962 - val_jaccard_distance: 0.0042 - val_dice_coef: 0.6024\n",
            "Epoch 52/150\n",
            "998/998 [==============================] - 331s 332ms/step - loss: 6.5112 - acc: 0.9953 - jaccard_distance: 0.0050 - dice_coef: 0.5607 - val_loss: 4.5800 - val_acc: 0.9958 - val_jaccard_distance: 0.0046 - val_dice_coef: 0.6101\n",
            "Epoch 53/150\n",
            "998/998 [==============================] - 331s 332ms/step - loss: 12.0017 - acc: 0.9911 - jaccard_distance: 0.0096 - dice_coef: 0.4110 - val_loss: 6.4490 - val_acc: 0.9939 - val_jaccard_distance: 0.0065 - val_dice_coef: 0.4785\n",
            "Epoch 54/150\n",
            "998/998 [==============================] - 331s 331ms/step - loss: 7.1792 - acc: 0.9939 - jaccard_distance: 0.0065 - dice_coef: 0.4913 - val_loss: 5.8032 - val_acc: 0.9958 - val_jaccard_distance: 0.0046 - val_dice_coef: 0.5548\n",
            "Epoch 55/150\n",
            "998/998 [==============================] - 331s 332ms/step - loss: 5.9528 - acc: 0.9952 - jaccard_distance: 0.0052 - dice_coef: 0.5381 - val_loss: 3.1751 - val_acc: 0.9966 - val_jaccard_distance: 0.0035 - val_dice_coef: 0.6235\n",
            "Epoch 56/150\n",
            "998/998 [==============================] - 331s 332ms/step - loss: 11.7717 - acc: 0.9937 - jaccard_distance: 0.0068 - dice_coef: 0.4877 - val_loss: 10.9028 - val_acc: 0.9921 - val_jaccard_distance: 0.0085 - val_dice_coef: 0.4821\n",
            "Epoch 57/150\n",
            "998/998 [==============================] - 330s 331ms/step - loss: 10.2790 - acc: 0.9935 - jaccard_distance: 0.0071 - dice_coef: 0.4911 - val_loss: 10.9024 - val_acc: 0.9949 - val_jaccard_distance: 0.0055 - val_dice_coef: 0.5399\n",
            "Epoch 58/150\n",
            "998/998 [==============================] - 330s 331ms/step - loss: 7.8593 - acc: 0.9947 - jaccard_distance: 0.0057 - dice_coef: 0.5279 - val_loss: 4.8543 - val_acc: 0.9955 - val_jaccard_distance: 0.0049 - val_dice_coef: 0.5882\n",
            "Epoch 59/150\n",
            "998/998 [==============================] - 329s 330ms/step - loss: 10.9403 - acc: 0.9938 - jaccard_distance: 0.0068 - dice_coef: 0.4913 - val_loss: 11.0236 - val_acc: 0.9940 - val_jaccard_distance: 0.0067 - val_dice_coef: 0.5115\n",
            "Epoch 60/150\n",
            "998/998 [==============================] - 330s 331ms/step - loss: 8.4005 - acc: 0.9944 - jaccard_distance: 0.0061 - dice_coef: 0.5104 - val_loss: 5.4842 - val_acc: 0.9956 - val_jaccard_distance: 0.0048 - val_dice_coef: 0.5659\n",
            "Epoch 61/150\n",
            "998/998 [==============================] - 331s 332ms/step - loss: 6.2775 - acc: 0.9954 - jaccard_distance: 0.0049 - dice_coef: 0.5519 - val_loss: 8.1227 - val_acc: 0.9953 - val_jaccard_distance: 0.0050 - val_dice_coef: 0.5576\n",
            "Epoch 62/150\n",
            "998/998 [==============================] - 331s 332ms/step - loss: 6.0353 - acc: 0.9955 - jaccard_distance: 0.0048 - dice_coef: 0.5632 - val_loss: 4.1624 - val_acc: 0.9966 - val_jaccard_distance: 0.0036 - val_dice_coef: 0.6294\n",
            "Epoch 63/150\n",
            "998/998 [==============================] - 331s 332ms/step - loss: 5.1879 - acc: 0.9958 - jaccard_distance: 0.0045 - dice_coef: 0.5820 - val_loss: 4.1033 - val_acc: 0.9957 - val_jaccard_distance: 0.0048 - val_dice_coef: 0.6054\n",
            "Epoch 64/150\n",
            "998/998 [==============================] - 332s 333ms/step - loss: 6.3952 - acc: 0.9954 - jaccard_distance: 0.0049 - dice_coef: 0.5594 - val_loss: 3.7482 - val_acc: 0.9961 - val_jaccard_distance: 0.0042 - val_dice_coef: 0.6191\n",
            "Epoch 65/150\n",
            "998/998 [==============================] - 330s 331ms/step - loss: 7.2386 - acc: 0.9948 - jaccard_distance: 0.0055 - dice_coef: 0.5467 - val_loss: 3.8438 - val_acc: 0.9957 - val_jaccard_distance: 0.0045 - val_dice_coef: 0.5927\n",
            "Epoch 66/150\n",
            "998/998 [==============================] - 331s 331ms/step - loss: 6.9356 - acc: 0.9954 - jaccard_distance: 0.0049 - dice_coef: 0.5608 - val_loss: 7.8740 - val_acc: 0.9951 - val_jaccard_distance: 0.0053 - val_dice_coef: 0.5635\n",
            "Epoch 67/150\n",
            "998/998 [==============================] - 331s 332ms/step - loss: 6.3963 - acc: 0.9954 - jaccard_distance: 0.0049 - dice_coef: 0.5513 - val_loss: 23.5348 - val_acc: 0.9947 - val_jaccard_distance: 0.0057 - val_dice_coef: 0.4809\n",
            "Epoch 68/150\n",
            "998/998 [==============================] - 330s 331ms/step - loss: 6.9390 - acc: 0.9952 - jaccard_distance: 0.0051 - dice_coef: 0.5416 - val_loss: 5.5724 - val_acc: 0.9964 - val_jaccard_distance: 0.0041 - val_dice_coef: 0.5985\n",
            "Epoch 69/150\n",
            "998/998 [==============================] - 331s 332ms/step - loss: 4.9462 - acc: 0.9960 - jaccard_distance: 0.0043 - dice_coef: 0.5868 - val_loss: 6.5045 - val_acc: 0.9953 - val_jaccard_distance: 0.0051 - val_dice_coef: 0.5857\n",
            "Epoch 70/150\n",
            "998/998 [==============================] - 332s 332ms/step - loss: 5.5943 - acc: 0.9955 - jaccard_distance: 0.0048 - dice_coef: 0.5721 - val_loss: 5.9779 - val_acc: 0.9949 - val_jaccard_distance: 0.0054 - val_dice_coef: 0.5481\n",
            "Epoch 71/150\n",
            "998/998 [==============================] - 331s 332ms/step - loss: 7.8221 - acc: 0.9944 - jaccard_distance: 0.0059 - dice_coef: 0.5199 - val_loss: 4.8635 - val_acc: 0.9955 - val_jaccard_distance: 0.0049 - val_dice_coef: 0.5910\n",
            "Epoch 72/150\n",
            "998/998 [==============================] - 331s 332ms/step - loss: 5.9801 - acc: 0.9955 - jaccard_distance: 0.0048 - dice_coef: 0.5675 - val_loss: 3.3141 - val_acc: 0.9965 - val_jaccard_distance: 0.0036 - val_dice_coef: 0.6148\n",
            "Epoch 73/150\n",
            "998/998 [==============================] - 332s 332ms/step - loss: 5.3612 - acc: 0.9956 - jaccard_distance: 0.0047 - dice_coef: 0.5657 - val_loss: 5.6857 - val_acc: 0.9965 - val_jaccard_distance: 0.0036 - val_dice_coef: 0.5981\n",
            "Epoch 74/150\n",
            "998/998 [==============================] - 331s 332ms/step - loss: 5.5879 - acc: 0.9958 - jaccard_distance: 0.0045 - dice_coef: 0.5787 - val_loss: 4.1299 - val_acc: 0.9956 - val_jaccard_distance: 0.0046 - val_dice_coef: 0.6008\n",
            "Epoch 75/150\n",
            "998/998 [==============================] - 332s 332ms/step - loss: 8.5248 - acc: 0.9949 - jaccard_distance: 0.0055 - dice_coef: 0.5409 - val_loss: 3.2036 - val_acc: 0.9965 - val_jaccard_distance: 0.0037 - val_dice_coef: 0.5950\n",
            "Epoch 76/150\n",
            "998/998 [==============================] - 332s 333ms/step - loss: 5.3227 - acc: 0.9957 - jaccard_distance: 0.0046 - dice_coef: 0.5703 - val_loss: 8.3184 - val_acc: 0.9938 - val_jaccard_distance: 0.0067 - val_dice_coef: 0.5113\n",
            "Epoch 77/150\n",
            "998/998 [==============================] - 333s 333ms/step - loss: 6.8186 - acc: 0.9954 - jaccard_distance: 0.0049 - dice_coef: 0.5593 - val_loss: 5.0408 - val_acc: 0.9960 - val_jaccard_distance: 0.0042 - val_dice_coef: 0.5771\n",
            "Epoch 78/150\n",
            "998/998 [==============================] - 332s 333ms/step - loss: 5.0682 - acc: 0.9959 - jaccard_distance: 0.0044 - dice_coef: 0.5863 - val_loss: 2.4544 - val_acc: 0.9967 - val_jaccard_distance: 0.0034 - val_dice_coef: 0.6352\n",
            "Epoch 79/150\n",
            "998/998 [==============================] - 331s 332ms/step - loss: 6.3144 - acc: 0.9954 - jaccard_distance: 0.0048 - dice_coef: 0.5647 - val_loss: 6.4557 - val_acc: 0.9952 - val_jaccard_distance: 0.0052 - val_dice_coef: 0.5962\n",
            "Epoch 80/150\n",
            "998/998 [==============================] - 331s 331ms/step - loss: 5.5700 - acc: 0.9957 - jaccard_distance: 0.0046 - dice_coef: 0.5727 - val_loss: 3.7366 - val_acc: 0.9962 - val_jaccard_distance: 0.0041 - val_dice_coef: 0.6254\n",
            "Epoch 81/150\n",
            "998/998 [==============================] - 331s 332ms/step - loss: 4.7704 - acc: 0.9960 - jaccard_distance: 0.0043 - dice_coef: 0.5921 - val_loss: 4.4505 - val_acc: 0.9957 - val_jaccard_distance: 0.0047 - val_dice_coef: 0.6114\n",
            "Epoch 82/150\n",
            "998/998 [==============================] - 332s 333ms/step - loss: 4.3592 - acc: 0.9961 - jaccard_distance: 0.0041 - dice_coef: 0.6000 - val_loss: 4.3491 - val_acc: 0.9963 - val_jaccard_distance: 0.0039 - val_dice_coef: 0.6472\n",
            "Epoch 83/150\n",
            "998/998 [==============================] - 332s 333ms/step - loss: 6.1186 - acc: 0.9957 - jaccard_distance: 0.0046 - dice_coef: 0.5769 - val_loss: 4.6330 - val_acc: 0.9953 - val_jaccard_distance: 0.0052 - val_dice_coef: 0.5902\n",
            "Epoch 84/150\n",
            "998/998 [==============================] - 330s 331ms/step - loss: 6.9577 - acc: 0.9955 - jaccard_distance: 0.0049 - dice_coef: 0.5580 - val_loss: 5.6045 - val_acc: 0.9955 - val_jaccard_distance: 0.0047 - val_dice_coef: 0.5972\n",
            "Epoch 85/150\n",
            "998/998 [==============================] - 328s 329ms/step - loss: 5.8034 - acc: 0.9957 - jaccard_distance: 0.0046 - dice_coef: 0.5752 - val_loss: 3.7665 - val_acc: 0.9965 - val_jaccard_distance: 0.0036 - val_dice_coef: 0.6449\n",
            "Epoch 86/150\n",
            "998/998 [==============================] - 328s 328ms/step - loss: 5.8195 - acc: 0.9961 - jaccard_distance: 0.0042 - dice_coef: 0.5966 - val_loss: 39.7253 - val_acc: 0.9950 - val_jaccard_distance: 0.0058 - val_dice_coef: 0.4096\n",
            "Epoch 87/150\n",
            "181/998 [====>.........................] - ETA: 4:24 - loss: 17.0713 - acc: 0.9941 - jaccard_distance: 0.0066 - dice_coef: 0.4308"
          ],
          "name": "stdout"
        }
      ]
    }
  ]
}